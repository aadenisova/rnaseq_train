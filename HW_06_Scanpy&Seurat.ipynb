{
  "cells": [
    {
      "cell_type": "markdown",
      "metadata": {
        "id": "view-in-github",
        "colab_type": "text"
      },
      "source": [
        "<a href=\"https://colab.research.google.com/github/aadenisova/rnaseq_train/blob/main/HW_06_Scanpy%26Seurat.ipynb\" target=\"_parent\"><img src=\"https://colab.research.google.com/assets/colab-badge.svg\" alt=\"Open In Colab\"/></a>"
      ]
    },
    {
      "cell_type": "markdown",
      "source": [
        "## Домашнее задание\n",
        "\n",
        "Сделайте несколько вспомогательных функций, которые вам позднее пригодятся:\n",
        "1. Разбиение одного объекта AnnData на список других, соответствующих каждому индивидуальному батчу;"
      ],
      "metadata": {
        "id": "TR6okaf89F4Q"
      }
    },
    {
      "cell_type": "code",
      "source": [
        "# Загрузка R magic\n",
        "%load_ext rpy2.ipython\n",
        "\n",
        "# Установка нужных пакетов\n",
        "!apt-get install libgmp3-dev libcairo2-dev libharfbuzz-dev libfribidi-dev libudunits2-dev\n",
        "!gdown 1W0TuuQospxcasOX5cQdhT_Xd-k7-QAck\n",
        "!tar xf library.tar.gz\n",
        "!pip3 install scanpy[leiden] anndata2ri\n",
        "\n",
        "# Необходимо, чтобы конкретно прогрузился matplotlib\n",
        "import os\n",
        "os.kill(os.getpid(), 9) "
      ],
      "metadata": {
        "id": "GbTSNNQrDPkI"
      },
      "execution_count": null,
      "outputs": []
    },
    {
      "cell_type": "code",
      "source": [
        "import anndata2ri\n",
        "anndata2ri.activate()\n",
        "%load_ext rpy2.ipython\n",
        "%R .libPaths(\"usr/local/lib/R/site-library/\")"
      ],
      "metadata": {
        "colab": {
          "base_uri": "https://localhost:8080/",
          "height": 58
        },
        "id": "Ojv9zG10DT1Q",
        "outputId": "dd25dd21-6c21-4083-8d99-4d5b8c360ec8"
      },
      "execution_count": 1,
      "outputs": [
        {
          "output_type": "execute_result",
          "data": {
            "text/plain": [
              "<rpy2.robjects.vectors.StrVector object at 0x7fe362d614b0> [RTYPES.STRSXP]\n",
              "R classes: ('character',)\n",
              "['/content/..., '/usr/loca..., '/usr/lib/..., '/usr/lib/...]"
            ],
            "text/html": [
              "\n",
              "        <span>StrVector with 4 elements.</span>\n",
              "        <table>\n",
              "        <tbody>\n",
              "          <tr>\n",
              "          \n",
              "            <td>\n",
              "            '/content/...\n",
              "            </td>\n",
              "          \n",
              "            <td>\n",
              "            '/usr/loca...\n",
              "            </td>\n",
              "          \n",
              "            <td>\n",
              "            '/usr/lib/...\n",
              "            </td>\n",
              "          \n",
              "            <td>\n",
              "            '/usr/lib/...\n",
              "            </td>\n",
              "          \n",
              "          </tr>\n",
              "        </tbody>\n",
              "        </table>\n",
              "        "
            ]
          },
          "metadata": {},
          "execution_count": 1
        }
      ]
    },
    {
      "cell_type": "code",
      "source": [
        "import numpy as np\n",
        "import scanpy as sc\n",
        "\n",
        "adata = sc.read_10x_mtx(\"filtered_feature_bc_matrix\")"
      ],
      "metadata": {
        "id": "RkNRmXbM4T01"
      },
      "execution_count": 2,
      "outputs": []
    },
    {
      "cell_type": "code",
      "source": [
        "adata.obs[\"batch\"] = [\"1\"]*10000+ [\"2\"]*1996\n",
        "\n",
        "#можно функцию\n",
        "def get_batch(adata = adata):\n",
        "   adata_by_batch = [adata[adata.obs[\"batch\"]==i] for i in adata.obs[\"batch\"].unique()]\n",
        "   print('{} {}'.format(adata_by_batch[0].obs['batch'].unique(), adata_by_batch[1].obs['batch'].unique()))\n",
        "   return adata_by_batch\n",
        "\n",
        "adata_by_batch = get_batch(adata)"
      ],
      "metadata": {
        "id": "TXIz0MZH9ztj",
        "colab": {
          "base_uri": "https://localhost:8080/"
        },
        "outputId": "1cda4f5a-8b92-47cf-ceb9-caf7b7e032b0"
      },
      "execution_count": 3,
      "outputs": [
        {
          "output_type": "stream",
          "name": "stdout",
          "text": [
            "['1'] ['2']\n"
          ]
        }
      ]
    },
    {
      "cell_type": "markdown",
      "source": [
        "2. Создание нового объекта со случайными N клетками и M генами из изначального;"
      ],
      "metadata": {
        "id": "WZ9rvu49XY0N"
      }
    },
    {
      "cell_type": "code",
      "source": [
        "def random_sample(adata_small = adata, N=10, M=10):\n",
        "  n_cells = adata_small.shape[0]\n",
        "  n_genes = adata_small.shape[1]\n",
        "\n",
        "  cell_sample = np.random.choice(n_cells, size = N, replace=False)\n",
        "  gene_sample = np.random.choice(n_genes, size = M, replace=False)\n",
        "  adata_small = adata_small[cell_sample,:][:, gene_sample]\n",
        "\n",
        "  return adata_small\n",
        "\n",
        "random_sample(adata).obs, random_sample(adata).var"
      ],
      "metadata": {
        "colab": {
          "base_uri": "https://localhost:8080/"
        },
        "id": "1B-M9k62WZi2",
        "outputId": "ca2d9df5-2738-4b6d-cb36-5751a1339127"
      },
      "execution_count": 4,
      "outputs": [
        {
          "output_type": "execute_result",
          "data": {
            "text/plain": [
              "(                   batch\n",
              " GTTGAACTCTTCGGTC-1     1\n",
              " CTTCTAAGTGAGGATC-1     1\n",
              " ATCAGGTAGCGGGTAT-1     1\n",
              " TGCAGGCAGGTAAGAG-1     2\n",
              " TGTGATGCATGTAACC-1     2\n",
              " TGTTTGTGTCTACGAT-1     2\n",
              " AGTCACATCGCTACAA-1     1\n",
              " CAGGCCAGTCGCAACC-1     1\n",
              " TTGTGTTGTCGGTGAA-1     2\n",
              " TCTGTCGCACTATGTG-1     2,                    gene_ids    feature_types\n",
              " GALNT16     ENSG00000100626  Gene Expression\n",
              " ITCH-AS1    ENSG00000236388  Gene Expression\n",
              " FAM71C      ENSG00000180219  Gene Expression\n",
              " AGTR1       ENSG00000144891  Gene Expression\n",
              " ZNF281      ENSG00000162702  Gene Expression\n",
              " CD2BP2      ENSG00000169217  Gene Expression\n",
              " LINC02588   ENSG00000257842  Gene Expression\n",
              " ANP32D      ENSG00000139223  Gene Expression\n",
              " AC080128.2  ENSG00000285908  Gene Expression\n",
              " AL359962.2  ENSG00000273160  Gene Expression)"
            ]
          },
          "metadata": {},
          "execution_count": 4
        }
      ]
    },
    {
      "cell_type": "markdown",
      "source": [
        "3. Сохранение вашего AnnData-объекта как Seurat-объекта в формате `.rds`."
      ],
      "metadata": {
        "id": "xNpqqS8x_Kok"
      }
    },
    {
      "cell_type": "code",
      "source": [
        "%%R \n",
        "library(Seurat)"
      ],
      "metadata": {
        "id": "AUI4QncrGAIO"
      },
      "execution_count": 6,
      "outputs": []
    },
    {
      "cell_type": "code",
      "source": [
        "%%R -i adata\n",
        "\n",
        "save_rds_from_adata <- function(adata, name = 'adata.to.seurat.rds') {\n",
        "  adata.to.seurat <- as.Seurat(adata, data = NULL, counts = \"X\")\n",
        "  saveRDS(adata.to.seurat, name)\n",
        "  }\n",
        "\n",
        "save_rds_from_adata(adata)"
      ],
      "metadata": {
        "id": "wVZUs3I1_k2i"
      },
      "execution_count": 8,
      "outputs": []
    }
  ],
  "metadata": {
    "colab": {
      "collapsed_sections": [],
      "provenance": [],
      "include_colab_link": true
    },
    "kernelspec": {
      "display_name": "Python 3",
      "name": "python3"
    },
    "language_info": {
      "name": "python"
    }
  },
  "nbformat": 4,
  "nbformat_minor": 0
}